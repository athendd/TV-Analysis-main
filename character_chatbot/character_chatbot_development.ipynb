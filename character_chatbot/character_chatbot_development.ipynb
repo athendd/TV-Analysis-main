{
 "cells": [
  {
   "cell_type": "code",
   "execution_count": 19,
   "id": "b84e4e39",
   "metadata": {},
   "outputs": [],
   "source": [
    "import pandas as pd\n",
    "import re\n",
    "from datasets import Dataset"
   ]
  },
  {
   "cell_type": "markdown",
   "id": "ad0d312f",
   "metadata": {},
   "source": [
    "# Load Dataset"
   ]
  },
  {
   "cell_type": "code",
   "execution_count": 5,
   "id": "fd36e84e",
   "metadata": {},
   "outputs": [],
   "source": [
    "data_path = '../Data/naruto.csv'\n",
    "naruto_transcript_df = pd.read_csv(data_path)"
   ]
  },
  {
   "cell_type": "code",
   "execution_count": 8,
   "id": "468eab75",
   "metadata": {},
   "outputs": [],
   "source": [
    "#Remove action statements from transcripts\n",
    "def remove_paranthesis(text):\n",
    "    result = re.sub(r'\\(.*?\\)', '', text)\n",
    "    \n",
    "    return result"
   ]
  },
  {
   "cell_type": "code",
   "execution_count": 9,
   "id": "166352d9",
   "metadata": {},
   "outputs": [],
   "source": [
    "naruto_transcript_df['line'] = naruto_transcript_df['line'].apply(remove_paranthesis)"
   ]
  },
  {
   "cell_type": "code",
   "execution_count": 11,
   "id": "87259e7e",
   "metadata": {},
   "outputs": [],
   "source": [
    "#Count number of words per line to get rid of lines with too few words\n",
    "naruto_transcript_df['num_of_words'] = naruto_transcript_df['line'].str.strip().str.split(' ')\n",
    "naruto_transcript_df['num_of_words'] = naruto_transcript_df['num_of_words'].apply(lambda x: len(x))"
   ]
  },
  {
   "cell_type": "code",
   "execution_count": 13,
   "id": "2dbe558c",
   "metadata": {},
   "outputs": [],
   "source": [
    "#Get all responses from chosen character that have more than 5 words\n",
    "naruto_transcript_df['naruto_response_flag'] = 0\n",
    "naruto_transcript_df.loc[(naruto_transcript_df['name'] == 'Naruto')&(naruto_transcript_df['num_of_words'] >5), 'naruto_response_flag'] = 1"
   ]
  },
  {
   "cell_type": "code",
   "execution_count": 15,
   "id": "6377c0bc",
   "metadata": {},
   "outputs": [],
   "source": [
    "#Exclude character's first instance of speech since it isn't a response\n",
    "idxs_to_take = list(naruto_transcript_df[(naruto_transcript_df['naruto_response_flag'] == 1)&(naruto_transcript_df.index > 0)].index)"
   ]
  },
  {
   "cell_type": "code",
   "execution_count": 17,
   "id": "968c4f3f",
   "metadata": {},
   "outputs": [],
   "source": [
    "system_prompt = \"\"\" You are Naruto from the anime \"Naruto\". Your responses should reflect his personality and speech patterns \\n\"\"\"\n",
    "prompts = []\n",
    "for idx in idxs_to_take:\n",
    "    prompt = system_prompt\n",
    "    \n",
    "    #Get prompts that were said to Naruto from the dataset\n",
    "    prompt += naruto_transcript_df.iloc[idx - 1]['line']\n",
    "    prompt += '\\n'\n",
    "    #Get Naruto's response from the prompt in the dataset\n",
    "    prompt += naruto_transcript_df.iloc[idx]['line']\n",
    "    prompts.append(prompt)"
   ]
  },
  {
   "cell_type": "code",
   "execution_count": 18,
   "id": "30e1dd3e",
   "metadata": {},
   "outputs": [
    {
     "data": {
      "text/html": [
       "<div>\n",
       "<style scoped>\n",
       "    .dataframe tbody tr th:only-of-type {\n",
       "        vertical-align: middle;\n",
       "    }\n",
       "\n",
       "    .dataframe tbody tr th {\n",
       "        vertical-align: top;\n",
       "    }\n",
       "\n",
       "    .dataframe thead th {\n",
       "        text-align: right;\n",
       "    }\n",
       "</style>\n",
       "<table border=\"1\" class=\"dataframe\">\n",
       "  <thead>\n",
       "    <tr style=\"text-align: right;\">\n",
       "      <th></th>\n",
       "      <th>prompt</th>\n",
       "    </tr>\n",
       "  </thead>\n",
       "  <tbody>\n",
       "    <tr>\n",
       "      <th>0</th>\n",
       "      <td>You are Naruto from the anime \"Naruto\". Your ...</td>\n",
       "    </tr>\n",
       "    <tr>\n",
       "      <th>1</th>\n",
       "      <td>You are Naruto from the anime \"Naruto\". Your ...</td>\n",
       "    </tr>\n",
       "    <tr>\n",
       "      <th>2</th>\n",
       "      <td>You are Naruto from the anime \"Naruto\". Your ...</td>\n",
       "    </tr>\n",
       "    <tr>\n",
       "      <th>3</th>\n",
       "      <td>You are Naruto from the anime \"Naruto\". Your ...</td>\n",
       "    </tr>\n",
       "    <tr>\n",
       "      <th>4</th>\n",
       "      <td>You are Naruto from the anime \"Naruto\". Your ...</td>\n",
       "    </tr>\n",
       "  </tbody>\n",
       "</table>\n",
       "</div>"
      ],
      "text/plain": [
       "                                              prompt\n",
       "0   You are Naruto from the anime \"Naruto\". Your ...\n",
       "1   You are Naruto from the anime \"Naruto\". Your ...\n",
       "2   You are Naruto from the anime \"Naruto\". Your ...\n",
       "3   You are Naruto from the anime \"Naruto\". Your ...\n",
       "4   You are Naruto from the anime \"Naruto\". Your ..."
      ]
     },
     "execution_count": 18,
     "metadata": {},
     "output_type": "execute_result"
    }
   ],
   "source": [
    "df = pd.DataFrame({'prompt': prompts})\n",
    "df.head()"
   ]
  },
  {
   "cell_type": "code",
   "execution_count": 20,
   "id": "dbe4dc5a",
   "metadata": {},
   "outputs": [],
   "source": [
    "dataset = Dataset.from_pandas(df)"
   ]
  }
 ],
 "metadata": {
  "kernelspec": {
   "display_name": "Python 3",
   "language": "python",
   "name": "python3"
  },
  "language_info": {
   "codemirror_mode": {
    "name": "ipython",
    "version": 3
   },
   "file_extension": ".py",
   "mimetype": "text/x-python",
   "name": "python",
   "nbconvert_exporter": "python",
   "pygments_lexer": "ipython3",
   "version": "3.12.0"
  }
 },
 "nbformat": 4,
 "nbformat_minor": 5
}
